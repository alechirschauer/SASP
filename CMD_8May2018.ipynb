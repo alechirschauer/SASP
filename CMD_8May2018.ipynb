{
 "cells": [
  {
   "cell_type": "code",
   "execution_count": 1,
   "metadata": {
    "collapsed": true
   },
   "outputs": [],
   "source": [
    "########## 8 May 2018 - Alec S. Hirschauer ##########\n",
    "# Today I am going to try to recreate the CMDs and CCDs for NGC 6822 using Python\n",
    "# (which I had previously made in SuperMongo)\n",
    "# to simultaneously learn a new plotting language and transfer the plots' utility.\n",
    "#\n",
    "# These CMDs and CCDs are from Sewilo et al. (2013) and Whitney et al. (2008),\n",
    "# and the data come from the catalog of Spitzer sources of Khan et al. (2015)\n",
    "# matched with IR sources from 2MASS in CasJobs."
   ]
  },
  {
   "cell_type": "code",
   "execution_count": 2,
   "metadata": {
    "collapsed": true
   },
   "outputs": [],
   "source": [
    "# First thing needed is to import the relevant Python libraries.\n",
    "import pandas as pd\n",
    "import numpy as np\n",
    "import matplotlib.pyplot as plt\n",
    "# And this command is useful for automatically showing plots inline.\n",
    "%matplotlib inline"
   ]
  },
  {
   "cell_type": "code",
   "execution_count": 4,
   "metadata": {},
   "outputs": [],
   "source": [
    "# Read in my data from a .csv file saved locally.\n",
    "phot_data = pd.read_csv('CMDparameters27April2018_ahirschauer.csv')\n",
    "# This is a table of values with ~30,000 rows which contains the photometric data of\n",
    "# the Khan et al. (2015) catalog matched to 2MASS sources with an \"OR\" command,\n",
    "# then downloaded from MAST CasJobs."
   ]
  },
  {
   "cell_type": "code",
   "execution_count": 6,
   "metadata": {},
   "outputs": [
    {
     "ename": "SyntaxError",
     "evalue": "invalid syntax (<ipython-input-6-81a81a4e88e4>, line 16)",
     "output_type": "error",
     "traceback": [
      "\u001b[0;36m  File \u001b[0;32m\"<ipython-input-6-81a81a4e88e4>\"\u001b[0;36m, line \u001b[0;32m16\u001b[0m\n\u001b[0;31m    phot_data['kMINUSfourfive'] = phot_data.'k_m'.values - phot_data.k45mag.values\u001b[0m\n\u001b[0m                                                ^\u001b[0m\n\u001b[0;31mSyntaxError\u001b[0m\u001b[0;31m:\u001b[0m invalid syntax\n"
     ]
    }
   ],
   "source": [
    "# Since the .csv file imported above only has the magnitude values,\n",
    "# I'll need to set the colors used in the CMDs and CCDs.\n",
    "# I've decided to do this on a per-figure basis, so there will be some duplicates,\n",
    "# but this will allow me to keep track of it way better.\n",
    "#\n",
    "# Colors from Sewilo et al. (2013) Figure 2:\n",
    "#\n",
    "phot_data['threesixMINUSfiveeight'] = phot_data.k36mag.values - phot_data.k58mag.values\n",
    "phot_data['fourfiveMINUSfiveeight'] = phot_data.k45mag.values - phot_data.k58mag.values\n",
    "phot_data['fourfiveMINUSeightzero'] = phot_data.k45mag.values - phot_data.k80mag.values\n",
    "phot_data['fourfiveMINUStwentyfour'] = phot_data.k45mag.values - phot_data.k24mag.values\n",
    "phot_data['eightzeroMINUStwentyfour'] = phot_data.k80mag.values - phot_data.k24mag.values\n",
    "#\n",
    "# Colors from Whitney et al. (2008) Figure 2:\n",
    "#\n",
    "phot_data['kMINUSfourfive'] = phot_data.k_m.values - phot_data.k45mag.values\n",
    "phot_data['fourfiveMINUSfiveeight'] = phot_data.k45mag.values - phot_data.k58mag.values\n",
    "phot_data['threesixMINUSeightzero'] = phot_data.k36mag.values - phot_data.k80mag.values\n",
    "phot_data['eightzeroMINUStwentyfour'] = phot_data.k80mag.values - phot_data.k24mag.values\n",
    "#\n",
    "# Colors from Whitney et al. (2008) Figure 3:\n",
    "#\n",
    "phot_data['eightzeroMINUStwentyfour'] = phot_data.k80mag.values - phot_data.k24mag.values\n",
    "#\n",
    "phot_data['kMINUSthreesix'] = phot_data.k_m.values - phot_data.k36mag.values\n",
    "phot_data['kMINUSfourfive'] = phot_data.k_m.values - phot_data.k45mag.values\n",
    "phot_data['threesixMINUSeightzero'] = phot_data.k36mag.values - phot_data.k80mag.values\n",
    "phot_data['fourfiveMINUSfiveeight'] = phot_data.k45mag.values - phot_data.k58mag.values\n",
    "#\n",
    "phot_data['threesixMINUStwentyfour'] = phot_data.k36mag.values - phot_data.k24mag.values\n",
    "phot_data['eightzeroMINUStwentyfour'] = phot_data.k80mag.values - phot_data.k24mag.values\n",
    "phot_data['threesixMINUSfourfive'] = phot_data.k36mag.values - phot_data.k45mag.values\n",
    "phot_data['fourfiveMINUStwentyfour'] = phot_data.k45mag.values - phot_data.k24mag.values\n",
    "#\n",
    "phot_data['fourfiveMINUSeightzero'] = phot_data.k45mag.values - phot_data.k80mag.values\n",
    "phot_data['fiveeightMINUStwentyfour'] = phot_data.k58mag.values - phot_data.k24mag.values\n",
    "phot_data['fiveeightMINUSeightzero'] = phot_data.k58mag.values - phot_data.k80mag.values\n",
    "phot_data['fourfiveMINUSeightzero'] = phot_data.k45mag.values - phot_data.k80mag.values\n",
    "#\n",
    "# Colors from Whitney et al. (2008) Figure 4:\n",
    "#\n",
    "phot_data['fourfiveMINUSeightzero'] = phot_data.k45mag.values - phot_data.k80mag.values\n",
    "phot_data['eightzeroMINUStwentyfour'] = phot_data.k80mag.values - phot_data.k24mag.values\n",
    "phot_data['threesixMINUSfourfive'] = phot_data.k36mag.values - phot_data.k45mag.values\n",
    "phot_data['fiveeightMINUSeightzero'] = phot_data.k58mag.values - phot_data.k80mag.values\n",
    "phot_data['threesixMINUSfiveeight'] = phot_data.k36mag.values - phot_data.k58mag.values\n",
    "#\n",
    "# Again, I know there are duplicates, but this way I was able to directly compare this\n",
    "# Python script to the scripts I had already made in SuperMongo (which are independent files)."
   ]
  },
  {
   "cell_type": "code",
   "execution_count": null,
   "metadata": {
    "collapsed": true
   },
   "outputs": [],
   "source": [
    "# In my first iteration of making CMDs, I found a few erroneous color values well in excess of\n",
    "# the standard plot boundaries, which made the axes ludicrously proportioned.\n",
    "# While clearly I could simply define the scale of the axes such that these outliers are skipped,\n",
    "# if I wanted to do any analysis of the dataset as a whole it is more useful for me to trim them.\n",
    "filter_phot_data = phot_data[(phot_data.threesixMINUSfiveeight > -2.5) & (phot_data.threesixMINUSfiveeight < 4.5)]\n",
    "# NB: By setting 'filter_phot_data', be sure to plot 'filter_phot_data' and not just 'phot_data'.\n",
    "#\n",
    "# It will probably be necessary to filter the other colors as well, not only [3.6]-[5.8]."
   ]
  },
  {
   "cell_type": "code",
   "execution_count": null,
   "metadata": {
    "collapsed": true
   },
   "outputs": [],
   "source": [
    "# To make sure the data were read in properly and, since the color values had to be added later,\n",
    "# plus the filter cuts were established in the step above, we can preview the data.\n",
    "phot_data.head()"
   ]
  },
  {
   "cell_type": "code",
   "execution_count": null,
   "metadata": {
    "collapsed": true
   },
   "outputs": [],
   "source": [
    "# The plots can be made one at a time or in groups (as I had done before).\n",
    "# For now I'll recreate the grouped plots.\n",
    "#\n",
    "# Plots of Sewilo et al. (2013) Figure 2:\n",
    "#\n",
    "plt.figure(figsize=(18,12))\n",
    "ax1 = plt.subplot(231)\n",
    "ax2 = plt.subplot(232)\n",
    "ax3 = plt.subplot(233)\n",
    "ax4 = plt.subplot(234)\n",
    "ax5 = plt.subplot(235)\n",
    "#\n",
    "ax1.set_ylim(21.0,8.0)\n",
    "ax1.set_xlim(-2.0,5.0)\n",
    "ax1.plot(filter_phot_data.threesixMINUSfiveeight,filter_phot_data.k36mag,'.')\n",
    "ax1.set_ylabel('[3.6]')\n",
    "ax1.set_xlabel('[3.6]-[5.8]')\n",
    "ax1.set_title('[3.6]-[5.8] vs. [3.6]')\n",
    "#\n",
    "ax2.set_ylim(21.0,8.0)\n",
    "ax2.set_xlim(-2.0,5.0)\n",
    "ax2.plot(filter_phot_data.fourfiveMINUSfiveeight,filter_phot_data.k45mag,'.')\n",
    "ax2.set_ylabel('[4.5]')\n",
    "ax2.set_xlabel('[4.5]-[5.8]')\n",
    "ax2.set_title('[4.5]-[5.8] vs. [4.5]')\n",
    "#\n",
    "ax3.set_ylim(21.0,8.0)\n",
    "ax3.set_xlim(-2.0,6.0)\n",
    "ax3.plot(filter_phot_data.fourfiveMINUSeightzero,filter_phot_data.k45mag,'.')\n",
    "ax3.set_ylabel('[4.5]')\n",
    "ax3.set_xlabel('[4.5]-[8.0]')\n",
    "ax3.set_title('[4.5]-[8.0] vs. [4.5]')\n",
    "#\n",
    "ax4.set_ylim(21.0,8.0)\n",
    "ax4.set_xlim(-2.0,13.0)\n",
    "ax4.plot(filter_phot_data.fourfiveMINUStwentyfour,filter_phot_data.k45mag,'.')\n",
    "ax4.set_ylabel('[4.5]')\n",
    "ax4.set_xlabel('[4.5]-[24]')\n",
    "ax4.set_title('[4.5]-[24] vs. [4.5]')\n",
    "#\n",
    "ax5.set_ylim(19.0,8.0)\n",
    "ax5.set_xlim(-2.0,10.0)\n",
    "ax5.plot(filter_phot_data.eightzeroMINUStwentyfour,filter_phot_data.k80mag,'.')\n",
    "ax5.set_ylabel('[8.0]')\n",
    "ax5.set_xlabel('[8.0]-[24]')\n",
    "ax5.set_title('[8.0]-[24] vs. [8.0]')\n",
    "#\n",
    "# NB: I am plotting 'filter_phot_data' even though this cut only applied to one color value."
   ]
  }
 ],
 "metadata": {
  "kernelspec": {
   "display_name": "Python 2",
   "language": "python",
   "name": "python2"
  },
  "language_info": {
   "codemirror_mode": {
    "name": "ipython",
    "version": 2
   },
   "file_extension": ".py",
   "mimetype": "text/x-python",
   "name": "python",
   "nbconvert_exporter": "python",
   "pygments_lexer": "ipython2",
   "version": "2.7.13"
  }
 },
 "nbformat": 4,
 "nbformat_minor": 2
}
